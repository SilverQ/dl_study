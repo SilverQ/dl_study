{
 "cells": [
  {
   "cell_type": "code",
   "execution_count": null,
   "metadata": {
    "collapsed": true
   },
   "outputs": [],
   "source": [
    "import tensorflow as tf\n",
    "import numpy as np\n",
    "import matplotlib.pyplot as plt\n",
    "%pylab inline"
   ]
  },
  {
   "cell_type": "code",
   "execution_count": null,
   "metadata": {
    "collapsed": true
   },
   "outputs": [],
   "source": [
    "layer_spec = [\n",
    "    {\"type\": \"conv\", \"shape\": (3,3,1,10)},\n",
    "    {\"type\": \"conv\", \"shape\": (3,3,10,10)},\n",
    "    {\"type\": \"pool\", \"shape\": (2,2)},\n",
    "    {\"type\": \"conv\", \"shape\": (3,3,10,20)},\n",
    "    {\"type\": \"pool\", \"shape\": (2,2)},\n",
    "    {\"type\": \"conv\", \"shape\": (3,3,20,20)},\n",
    "    {\"type\": \"flat\", \"shape\": 180},\n",
    "    {\"type\": \"full\", \"shape\": (180,40)},\n",
    "    {\"type\": \"logr\", \"shape\": (40,10)}\n",
    "]"
   ]
  },
  {
   "cell_type": "code",
   "execution_count": null,
   "metadata": {
    "collapsed": true
   },
   "outputs": [],
   "source": [
    "tf.reset_default_graph()\n",
    "x = tf.placeholder('float32', shape=[None,28,28,1], name='x')\n",
    "inp = x\n",
    "for l,layer in enumerate(layer_spec):\n",
    "    ltype = layer[\"type\"]\n",
    "    lshape = layer[\"shape\"]\n",
    "    \n",
    "    if ltype == \"conv\":\n",
    "        with tf.name_scope('conv{}'.format(l)):\n",
    "            k = tf.Variable(\n",
    "                tf.truncated_normal(shape=lshape, mean=0.0, stddev=0.05),\n",
    "                name=\"kernel\"\n",
    "            )\n",
    "            b = tf.Variable(tf.zeros((lshape[-1],)), name=\"bias\")\n",
    "            convout = tf.nn.conv2d(inp,k,strides=(1,1,1,1),\n",
    "                                   padding=\"VALID\")\n",
    "            p = tf.nn.bias_add(convout, b)\n",
    "            h = tf.nn.relu(p)\n",
    "            inp = h\n",
    "            \n",
    "    elif ltype == \"pool\":\n",
    "        with tf.name_scope('pool{}'.format(l)):\n",
    "            out = tf.nn.max_pool(inp, ksize=(1,)+lshape+(1,), \n",
    "                                strides=(1,)+lshape+(1,), \n",
    "                                padding=\"VALID\")\n",
    "            inp = out\n",
    "            \n",
    "    elif ltype == \"flat\":\n",
    "        with tf.name_scope('flat{}'.format(l)):\n",
    "            out = tf.reshape(inp, (-1,lshape))\n",
    "            inp = out\n",
    "    \n",
    "    elif ltype == \"full\":\n",
    "        with tf.name_scope('full{}'.format(l)):\n",
    "            w = tf.Variable(\n",
    "                tf.truncated_normal(\n",
    "                    shape=lshape,\n",
    "                    mean=0.0, stddev=0.05),\n",
    "                name='weight'\n",
    "            )\n",
    "            b = tf.Variable(tf.zeros(lshape[-1],), name=\"bias\")\n",
    "            p = tf.nn.bias_add(tf.matmul(inp, w), b)\n",
    "            h = tf.nn.relu(p)\n",
    "            inp = h\n",
    "    elif ltype == \"logr\":\n",
    "        with tf.name_scope('logr{}'.format(l)):\n",
    "            assert l == len(layer_spec)-1\n",
    "            w = tf.Variable(\n",
    "                tf.truncated_normal(\n",
    "                    shape=lshape,\n",
    "                    mean=0.0, stddev=0.05),\n",
    "                name='weight'\n",
    "            )\n",
    "            b = tf.Variable(tf.zeros(lshape[-1],), name=\"bias\")\n",
    "            p = tf.nn.bias_add(tf.matmul(inp, w), b)\n",
    "            final_out = p\n",
    "\n",
    "            \n",
    "            \n",
    "t = tf.placeholder('int32', name='t')\n",
    "xent = tf.nn.sparse_softmax_cross_entropy_with_logits(\n",
    "            final_out, t, name='xent')\n",
    "\n",
    "loss = tf.reduce_mean(xent, name='loss')\n",
    "train_step = tf.train.GradientDescentOptimizer(0.05).minimize(loss)\n",
    "\n",
    "#pred = tf.argmax(final_out, axis=1)\n",
    "pred = tf.reduce_max(final_out, reduction_indices=[1])\n",
    "correct = tf.nn.in_top_k(final_out, t, 1)\n",
    "acc = tf.reduce_mean(tf.cast(correct, tf.float32))"
   ]
  }
 ],
 "metadata": {
  "kernelspec": {
   "display_name": "Python 2",
   "language": "python",
   "name": "python2"
  },
  "language_info": {
   "codemirror_mode": {
    "name": "ipython",
    "version": 2
   },
   "file_extension": ".py",
   "mimetype": "text/x-python",
   "name": "python",
   "nbconvert_exporter": "python",
   "pygments_lexer": "ipython2",
   "version": "2.7.13"
  }
 },
 "nbformat": 4,
 "nbformat_minor": 2
}
