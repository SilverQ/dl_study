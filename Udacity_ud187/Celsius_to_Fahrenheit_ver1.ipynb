{
  "nbformat": 4,
  "nbformat_minor": 0,
  "metadata": {
    "colab": {
      "name": "Celsius_to_Fahrenheit_ver1.ipynb",
      "version": "0.3.2",
      "provenance": [],
      "include_colab_link": true
    },
    "kernelspec": {
      "name": "python3",
      "display_name": "Python 3"
    },
    "accelerator": "GPU"
  },
  "cells": [
    {
      "cell_type": "markdown",
      "metadata": {
        "id": "view-in-github",
        "colab_type": "text"
      },
      "source": [
        "<a href=\"https://colab.research.google.com/github/SilverQ/dl_study/blob/master/Udacity_ud187/Celsius_to_Fahrenheit_ver1.ipynb\" target=\"_parent\"><img src=\"https://colab.research.google.com/assets/colab-badge.svg\" alt=\"Open In Colab\"/></a>"
      ]
    },
    {
      "cell_type": "code",
      "metadata": {
        "id": "iRBx--8W2neV",
        "colab_type": "code",
        "colab": {}
      },
      "source": [
        "import numpy as np\n",
        "import tensorflow as tf"
      ],
      "execution_count": 0,
      "outputs": []
    },
    {
      "cell_type": "code",
      "metadata": {
        "id": "Zbpv_QxL39gh",
        "colab_type": "code",
        "colab": {
          "base_uri": "https://localhost:8080/",
          "height": 139
        },
        "outputId": "1a212f17-22f8-4480-e9c3-5ab333515461"
      },
      "source": [
        "celsius_q = np.array([-40, -10, 0, 8, 15, 22, 38], dtype=np.float32)\n",
        "fahrenheit_a = np.array([-40, 14, 32, 46, 59, 72, 100], dtype=np.float32)\n",
        "\n",
        "for i, c in enumerate(celsius_q):\n",
        "  print(\"{} degrees Celsius = {} degrees Fahrenheit\".format(c, fahrenheit_a[i]))"
      ],
      "execution_count": 2,
      "outputs": [
        {
          "output_type": "stream",
          "text": [
            "-40.0 degrees Celsius = -40.0 degrees Fahrenheit\n",
            "-10.0 degrees Celsius = 14.0 degrees Fahrenheit\n",
            "0.0 degrees Celsius = 32.0 degrees Fahrenheit\n",
            "8.0 degrees Celsius = 46.0 degrees Fahrenheit\n",
            "15.0 degrees Celsius = 59.0 degrees Fahrenheit\n",
            "22.0 degrees Celsius = 72.0 degrees Fahrenheit\n",
            "38.0 degrees Celsius = 100.0 degrees Fahrenheit\n"
          ],
          "name": "stdout"
        }
      ]
    },
    {
      "cell_type": "code",
      "metadata": {
        "id": "bdEBeRwr4-jB",
        "colab_type": "code",
        "colab": {}
      },
      "source": [
        "W = 10.0\n",
        "b = 10.0"
      ],
      "execution_count": 0,
      "outputs": []
    },
    {
      "cell_type": "code",
      "metadata": {
        "id": "ov0_xtbf9a_H",
        "colab_type": "code",
        "colab": {}
      },
      "source": [
        "learning_rate = 0.001"
      ],
      "execution_count": 0,
      "outputs": []
    },
    {
      "cell_type": "code",
      "metadata": {
        "id": "Tmytk_m9_wEB",
        "colab_type": "code",
        "colab": {
          "base_uri": "https://localhost:8080/",
          "height": 34
        },
        "outputId": "8334f292-7cdf-4367-8d3d-309c8a0f5c2a"
      },
      "source": [
        "hx = celsius_q * W + b\n",
        "cost = np.sum(np.square(hx - fahrenheit_a)) / 7\n",
        "grad_w = np.sum(2 * (hx - fahrenheit_a) * celsius_q) / 7\n",
        "grad_b = np.sum(2 * (hx - fahrenheit_a)) / 7\n",
        "\n",
        "W -= grad_w * learning_rate\n",
        "b -= grad_b * learning_rate\n",
        "print('cost: ', cost, 'grad_w: ', grad_w, 'grad_b: ', grad_b, 'W: ', W, 'b: ', b)"
      ],
      "execution_count": 118,
      "outputs": [
        {
          "output_type": "stream",
          "text": [
            "cost:  446.41214425223217 grad_w:  0.34926060267857145 grad_b:  -41.403407505580354 W:  1.9795463692801338 b:  10.434481340680806\n"
          ],
          "name": "stdout"
        }
      ]
    },
    {
      "cell_type": "code",
      "metadata": {
        "id": "pzjlm2du7VZs",
        "colab_type": "code",
        "colab": {
          "base_uri": "https://localhost:8080/",
          "height": 191
        },
        "outputId": "36937ade-6949-45a3-9bfe-2c25462085f7"
      },
      "source": [
        "for i in range(10000):\n",
        "  hx = celsius_q * W + b\n",
        "  cost = np.sum(np.square(hx - fahrenheit_a)) / 7\n",
        "  grad_w = np.sum(2 * (hx - fahrenheit_a) * celsius_q) / 7\n",
        "  grad_b = np.sum(2 * (hx - fahrenheit_a)) / 7\n",
        "  \n",
        "  W -= grad_w * learning_rate\n",
        "  b -= grad_b * learning_rate\n",
        "  if i % 1000 == 0:\n",
        "    print('i: ', i, 'cost: ', cost, 'grad_w: ', grad_w, 'grad_b: ', grad_b, 'W: ', W, 'b: ', b)"
      ],
      "execution_count": 127,
      "outputs": [
        {
          "output_type": "stream",
          "text": [
            "i:  0 cost:  0.06304619567734855 grad_w:  0.00013405936104910715 grad_b:  2.1798270089285713e-06 W:  1.7979490563538083 b:  31.952525139951607\n",
            "i:  1000 cost:  0.06304645538330078 grad_w:  -6.539481026785714e-05 grad_b:  -3.814697265625e-06 W:  1.797949147906558 b:  31.952525142131538\n",
            "i:  2000 cost:  0.06304741331509181 grad_w:  -2.288818359375e-05 grad_b:  1.6348702566964285e-06 W:  1.7979491555359681 b:  31.952525137227028\n",
            "i:  3000 cost:  0.06304741331509181 grad_w:  -2.288818359375e-05 grad_b:  1.6348702566964285e-06 W:  1.7979490650731629 b:  31.952525138317043\n",
            "i:  4000 cost:  0.06304741331509181 grad_w:  -2.288818359375e-05 grad_b:  1.6348702566964285e-06 W:  1.7979491566259125 b:  31.952525140496974\n",
            "i:  5000 cost:  0.06304619567734855 grad_w:  0.00013405936104910715 grad_b:  2.1798270089285713e-06 W:  1.7979490661631072 b:  31.95252514158699\n",
            "i:  6000 cost:  0.06304741331509181 grad_w:  -2.288818359375e-05 grad_b:  1.6348702566964285e-06 W:  1.7979491152092302 b:  31.952525138317352\n",
            "i:  7000 cost:  0.06304619567734855 grad_w:  0.00013405936104910715 grad_b:  2.1798270089285713e-06 W:  1.7979490498144353 b:  31.952525139952325\n",
            "i:  8000 cost:  0.06304645538330078 grad_w:  -6.539481026785714e-05 grad_b:  -3.814697265625e-06 W:  1.7979491413671849 b:  31.952525142132256\n",
            "i:  9000 cost:  0.06304585082190377 grad_w:  -0.00019727434430803572 grad_b:  -3.814697265625e-06 W:  1.7979492078519241 b:  31.95252514376723\n"
          ],
          "name": "stdout"
        }
      ]
    }
  ]
}