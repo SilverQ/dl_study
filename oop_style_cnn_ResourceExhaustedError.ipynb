{
 "cells": [
  {
   "cell_type": "code",
   "execution_count": 1,
   "metadata": {
    "collapsed": false,
    "deletable": true,
    "editable": true
   },
   "outputs": [
    {
     "name": "stdout",
     "output_type": "stream",
     "text": [
      "CURRENT TF VERSION IS [1.0.1]\n",
      "PACKAGES LOADED\n"
     ]
    }
   ],
   "source": [
    "import os\n",
    "import numpy as np\n",
    "from scipy import ndimage\n",
    "import matplotlib.pyplot as plt\n",
    "import tensorflow as tf\n",
    "import tensorflow.contrib.slim as slim\n",
    "from tensorflow.examples.tutorials.mnist import input_data\n",
    "%matplotlib inline  \n",
    "print (\"CURRENT TF VERSION IS [%s]\" % (tf.__version__))\n",
    "print (\"PACKAGES LOADED\")"
   ]
  },
  {
   "cell_type": "markdown",
   "metadata": {
    "deletable": true,
    "editable": true
   },
   "source": [
    "https://github.com/sjchoi86/advanced-tensorflow/blob/master/basic/oop_style_cnn.ipynb\n",
    "    \n"
   ]
  },
  {
   "cell_type": "code",
   "execution_count": 2,
   "metadata": {
    "collapsed": true,
    "deletable": true,
    "editable": true
   },
   "outputs": [],
   "source": [
    "class Model:\n",
    "    def __init__(self, name, input_dim, output_dim\n",
    "                 , hidden_dims=[32, 32], use_batchnorm=True\n",
    "                 , activation_fn=tf.nn.relu\n",
    "                 , optimizer=tf.train.AdamOptimizer, lr=0.01):\n",
    "        with tf.variable_scope(name):\n",
    "            # SET PLACEHOLDERS\n",
    "            self.x = tf.placeholder(tf.float32, [None, input_dim], name='X')\n",
    "            self.y = tf.placeholder(tf.float32, [None, output_dim], name='Y')\n",
    "            self.istrain = tf.placeholder(tf.bool, name='IS_TRAIN')\n",
    "            # LOOP OVER HIDDEN LAYERS\n",
    "            net = tf.reshape(self.x, [-1, 28, 28, 1])\n",
    "            for i, h_dim in enumerate(hidden_dims):\n",
    "                with tf.variable_scope('LAYER_{}'.format(i)):\n",
    "                    # CONVOLUTION\n",
    "                    net = tf.layers.conv2d(net, h_dim, (3, 3), padding='SAME')\n",
    "                    # BATCH NORM\n",
    "                    if use_batchnorm: \n",
    "                        net = tf.layers.batch_normalization(net, training=self.istrain)\n",
    "                    # ACTIVATION (RELU)\n",
    "                    net = activation_fn(net)\n",
    "                    # MAX POOLING\n",
    "                    net = tf.layers.max_pooling2d(inputs=net, pool_size=[2, 2], strides=2)\n",
    "            # FINAL FULLY CONNECTED LAYER\n",
    "            net = tf.contrib.layers.flatten(net)\n",
    "            net = tf.layers.dense(net, output_dim)\n",
    "            # DEFINE LOSS\n",
    "            self.loss = tf.reduce_mean(\n",
    "                tf.nn.softmax_cross_entropy_with_logits(\n",
    "                    logits=net, labels=self.y), name='LOSS')    \n",
    "            # DEFINE OPTIMIZER\n",
    "            update_ops = tf.get_collection(tf.GraphKeys.UPDATE_OPS, scope=name)\n",
    "            with tf.control_dependencies(update_ops):                     \n",
    "                self.optm = optimizer(lr).minimize(self.loss)\n",
    "            \n",
    "            # OTHERS\n",
    "            softmax = tf.nn.softmax(net, name='SOFTMAX')\n",
    "            self.corr = tf.equal(tf.argmax(softmax, 1), tf.argmax(self.y, 1))\n",
    "            self.accr = tf.reduce_mean(tf.cast(self.corr, tf.float32))"
   ]
  },
  {
   "cell_type": "code",
   "execution_count": 3,
   "metadata": {
    "collapsed": true,
    "deletable": true,
    "editable": true
   },
   "outputs": [],
   "source": [
    "class Solver:\n",
    "    \"\"\"\n",
    "    # <EXAMPLE>\n",
    "    bn = Model('batchnorm', input_dim, output_dim, use_batchnorm=True)\n",
    "    sess = tf.InteractiveSession()\n",
    "    solver = Solver(sess, model)\n",
    "    # TRAIN\n",
    "    solver.train(x, y)\n",
    "    # EVALUATE\n",
    "    solver.evaluate(x, y, _batch_size=128)\n",
    "    \"\"\"\n",
    "    def __init__(self, _sess, _model):\n",
    "        self.model = _model\n",
    "        self.sess = _sess\n",
    "    # DEFINE TRAIN FUNCTION\n",
    "    def train(self, _x, _y):\n",
    "        feed = {\n",
    "            self.model.x: _x,\n",
    "            self.model.y: _y,\n",
    "            self.model.istrain: True\n",
    "        }\n",
    "        optm = self.model.optm\n",
    "        loss = self.model.loss\n",
    "        return self.sess.run([optm, loss], feed_dict=feed)\n",
    "    # DEFINE EVALUATE FUNCTION\n",
    "    def evaluate(self, _x, _y, _batch_size=None):\n",
    "        if _batch_size:\n",
    "            N = _x.shape[0]\n",
    "            total_loss = 0\n",
    "            total_accr = 0\n",
    "            for i in range(0, N, _batch_size):\n",
    "                x_batch = _x[i:i+_batch_size] # DON'T WORRY ABOUT OUT OF INDEX\n",
    "                y_batch = _y[i:i+_batch_size]\n",
    "                feed = {\n",
    "                    self.model.x: x_batch,\n",
    "                    self.model.y: y_batch,\n",
    "                    self.model.istrain: False\n",
    "                }\n",
    "                loss = self.model.loss\n",
    "                accr = self.model.accr\n",
    "                step_loss, step_accr = self.sess.run([loss, accr], feed_dict=feed)\n",
    "                total_loss += step_loss * x_batch.shape[0]\n",
    "                total_accr += step_accr * x_batch.shape[0]\n",
    "            total_loss /= N\n",
    "            total_accr /= N\n",
    "            return total_loss, total_accr\n",
    "        else:\n",
    "            feed = {\n",
    "                self.model.x: _x,\n",
    "                self.model.y: _y,\n",
    "                self.model.istrain: False\n",
    "            }\n",
    "            loss = self.model.loss            \n",
    "            accr = self.model.accr\n",
    "            \n",
    "            display_step    = 1\n",
    "            config = tf.ConfigProto()\n",
    "            config.gpu_options.allow_growth=True\n",
    "\n",
    "            return self.sess.run([loss, accr], feed_dict=feed)"
   ]
  },
  {
   "cell_type": "code",
   "execution_count": 4,
   "metadata": {
    "collapsed": false,
    "deletable": true,
    "editable": true
   },
   "outputs": [
    {
     "name": "stdout",
     "output_type": "stream",
     "text": [
      "MODELS AND SOLVERS READY\n"
     ]
    }
   ],
   "source": [
    "tf.reset_default_graph()\n",
    "sess = tf.InteractiveSession()\n",
    "# CREATE TWO MODELS WITH AND WITHOUT BATCHNORM\n",
    "input_dim  = 784\n",
    "output_dim = 10\n",
    "nchannels  = [64, 128]\n",
    "bn = Model('BATCHNORM', input_dim, output_dim, hidden_dims=nchannels, use_batchnorm=True)\n",
    "nn = Model('NO_NORM', input_dim, output_dim, hidden_dims=nchannels, use_batchnorm=False)\n",
    "# CREATE TWO CORRESPONDING SOLVERS\n",
    "bn_solver = Solver(sess, bn)\n",
    "nn_solver = Solver(sess, nn)\n",
    "print(\"MODELS AND SOLVERS READY\")"
   ]
  },
  {
   "cell_type": "code",
   "execution_count": 5,
   "metadata": {
    "collapsed": false,
    "deletable": true,
    "editable": true
   },
   "outputs": [
    {
     "name": "stdout",
     "output_type": "stream",
     "text": [
      "Extracting data/train-images-idx3-ubyte.gz\n",
      "Extracting data/train-labels-idx1-ubyte.gz\n",
      "Extracting data/t10k-images-idx3-ubyte.gz\n",
      "Extracting data/t10k-labels-idx1-ubyte.gz\n"
     ]
    },
    {
     "ename": "ResourceExhaustedError",
     "evalue": "OOM when allocating tensor with shape[5000,64,28,28]\n\t [[Node: BATCHNORM/LAYER_0/conv2d/convolution = Conv2D[T=DT_FLOAT, data_format=\"NHWC\", padding=\"SAME\", strides=[1, 1, 1, 1], use_cudnn_on_gpu=true, _device=\"/job:localhost/replica:0/task:0/gpu:0\"](BATCHNORM/Reshape, BATCHNORM/LAYER_0/conv2d/kernel/read)]]\n\t [[Node: BATCHNORM/LOSS/_79 = _Recv[client_terminated=false, recv_device=\"/job:localhost/replica:0/task:0/cpu:0\", send_device=\"/job:localhost/replica:0/task:0/gpu:0\", send_device_incarnation=1, tensor_name=\"edge_147_BATCHNORM/LOSS\", tensor_type=DT_FLOAT, _device=\"/job:localhost/replica:0/task:0/cpu:0\"]()]]\n\nCaused by op u'BATCHNORM/LAYER_0/conv2d/convolution', defined at:\n  File \"/home/nips/anaconda2/lib/python2.7/runpy.py\", line 174, in _run_module_as_main\n    \"__main__\", fname, loader, pkg_name)\n  File \"/home/nips/anaconda2/lib/python2.7/runpy.py\", line 72, in _run_code\n    exec code in run_globals\n  File \"/home/nips/.local/lib/python2.7/site-packages/ipykernel/__main__.py\", line 3, in <module>\n    app.launch_new_instance()\n  File \"/home/nips/.local/lib/python2.7/site-packages/traitlets/config/application.py\", line 658, in launch_instance\n    app.start()\n  File \"/home/nips/.local/lib/python2.7/site-packages/ipykernel/kernelapp.py\", line 474, in start\n    ioloop.IOLoop.instance().start()\n  File \"/home/nips/.local/lib/python2.7/site-packages/zmq/eventloop/ioloop.py\", line 177, in start\n    super(ZMQIOLoop, self).start()\n  File \"/home/nips/.local/lib/python2.7/site-packages/tornado/ioloop.py\", line 887, in start\n    handler_func(fd_obj, events)\n  File \"/home/nips/.local/lib/python2.7/site-packages/tornado/stack_context.py\", line 275, in null_wrapper\n    return fn(*args, **kwargs)\n  File \"/home/nips/.local/lib/python2.7/site-packages/zmq/eventloop/zmqstream.py\", line 440, in _handle_events\n    self._handle_recv()\n  File \"/home/nips/.local/lib/python2.7/site-packages/zmq/eventloop/zmqstream.py\", line 472, in _handle_recv\n    self._run_callback(callback, msg)\n  File \"/home/nips/.local/lib/python2.7/site-packages/zmq/eventloop/zmqstream.py\", line 414, in _run_callback\n    callback(*args, **kwargs)\n  File \"/home/nips/.local/lib/python2.7/site-packages/tornado/stack_context.py\", line 275, in null_wrapper\n    return fn(*args, **kwargs)\n  File \"/home/nips/.local/lib/python2.7/site-packages/ipykernel/kernelbase.py\", line 276, in dispatcher\n    return self.dispatch_shell(stream, msg)\n  File \"/home/nips/.local/lib/python2.7/site-packages/ipykernel/kernelbase.py\", line 228, in dispatch_shell\n    handler(stream, idents, msg)\n  File \"/home/nips/.local/lib/python2.7/site-packages/ipykernel/kernelbase.py\", line 390, in execute_request\n    user_expressions, allow_stdin)\n  File \"/home/nips/.local/lib/python2.7/site-packages/ipykernel/ipkernel.py\", line 196, in do_execute\n    res = shell.run_cell(code, store_history=store_history, silent=silent)\n  File \"/home/nips/.local/lib/python2.7/site-packages/ipykernel/zmqshell.py\", line 501, in run_cell\n    return super(ZMQInteractiveShell, self).run_cell(*args, **kwargs)\n  File \"/home/nips/.local/lib/python2.7/site-packages/IPython/core/interactiveshell.py\", line 2717, in run_cell\n    interactivity=interactivity, compiler=compiler, result=result)\n  File \"/home/nips/.local/lib/python2.7/site-packages/IPython/core/interactiveshell.py\", line 2821, in run_ast_nodes\n    if self.run_code(code, result):\n  File \"/home/nips/.local/lib/python2.7/site-packages/IPython/core/interactiveshell.py\", line 2881, in run_code\n    exec(code_obj, self.user_global_ns, self.user_ns)\n  File \"<ipython-input-4-93bb344213aa>\", line 7, in <module>\n    bn = Model('BATCHNORM', input_dim, output_dim, hidden_dims=nchannels, use_batchnorm=True)\n  File \"<ipython-input-2-dd69ed40e9c5>\", line 16, in __init__\n    net = tf.layers.conv2d(net, h_dim, (3, 3), padding='SAME')\n  File \"/home/nips/anaconda2/lib/python2.7/site-packages/tensorflow/python/layers/convolutional.py\", line 509, in conv2d\n    return layer.apply(inputs)\n  File \"/home/nips/anaconda2/lib/python2.7/site-packages/tensorflow/python/layers/base.py\", line 303, in apply\n    return self.__call__(inputs, **kwargs)\n  File \"/home/nips/anaconda2/lib/python2.7/site-packages/tensorflow/python/layers/base.py\", line 273, in __call__\n    outputs = self.call(inputs, **kwargs)\n  File \"/home/nips/anaconda2/lib/python2.7/site-packages/tensorflow/python/layers/convolutional.py\", line 156, in call\n    data_format=utils.convert_data_format(self.data_format, self.rank + 2))\n  File \"/home/nips/anaconda2/lib/python2.7/site-packages/tensorflow/python/ops/nn_ops.py\", line 639, in convolution\n    op=op)\n  File \"/home/nips/anaconda2/lib/python2.7/site-packages/tensorflow/python/ops/nn_ops.py\", line 308, in with_space_to_batch\n    return op(input, num_spatial_dims, padding)\n  File \"/home/nips/anaconda2/lib/python2.7/site-packages/tensorflow/python/ops/nn_ops.py\", line 631, in op\n    name=name)\n  File \"/home/nips/anaconda2/lib/python2.7/site-packages/tensorflow/python/ops/nn_ops.py\", line 129, in _non_atrous_convolution\n    name=name)\n  File \"/home/nips/anaconda2/lib/python2.7/site-packages/tensorflow/python/ops/gen_nn_ops.py\", line 396, in conv2d\n    data_format=data_format, name=name)\n  File \"/home/nips/anaconda2/lib/python2.7/site-packages/tensorflow/python/framework/op_def_library.py\", line 763, in apply_op\n    op_def=op_def)\n  File \"/home/nips/anaconda2/lib/python2.7/site-packages/tensorflow/python/framework/ops.py\", line 2327, in create_op\n    original_op=self._default_original_op, op_def=op_def)\n  File \"/home/nips/anaconda2/lib/python2.7/site-packages/tensorflow/python/framework/ops.py\", line 1226, in __init__\n    self._traceback = _extract_stack()\n\nResourceExhaustedError (see above for traceback): OOM when allocating tensor with shape[5000,64,28,28]\n\t [[Node: BATCHNORM/LAYER_0/conv2d/convolution = Conv2D[T=DT_FLOAT, data_format=\"NHWC\", padding=\"SAME\", strides=[1, 1, 1, 1], use_cudnn_on_gpu=true, _device=\"/job:localhost/replica:0/task:0/gpu:0\"](BATCHNORM/Reshape, BATCHNORM/LAYER_0/conv2d/kernel/read)]]\n\t [[Node: BATCHNORM/LOSS/_79 = _Recv[client_terminated=false, recv_device=\"/job:localhost/replica:0/task:0/cpu:0\", send_device=\"/job:localhost/replica:0/task:0/gpu:0\", send_device_incarnation=1, tensor_name=\"edge_147_BATCHNORM/LOSS\", tensor_type=DT_FLOAT, _device=\"/job:localhost/replica:0/task:0/cpu:0\"]()]]\n",
     "output_type": "error",
     "traceback": [
      "\u001b[0;31m---------------------------------------------------------------------------\u001b[0m",
      "\u001b[0;31mResourceExhaustedError\u001b[0m                    Traceback (most recent call last)",
      "\u001b[0;32m<ipython-input-5-025f0a6de7a2>\u001b[0m in \u001b[0;36m<module>\u001b[0;34m()\u001b[0m\n\u001b[1;32m     30\u001b[0m     \u001b[0mn_train_loss\u001b[0m\u001b[0;34m,\u001b[0m \u001b[0mn_train_accr\u001b[0m \u001b[0;34m=\u001b[0m \u001b[0mnn_solver\u001b[0m\u001b[0;34m.\u001b[0m\u001b[0mevaluate\u001b[0m\u001b[0;34m(\u001b[0m\u001b[0mtr_img\u001b[0m\u001b[0;34m,\u001b[0m \u001b[0mtr_label\u001b[0m\u001b[0;34m,\u001b[0m \u001b[0mbatch_size\u001b[0m\u001b[0;34m)\u001b[0m\u001b[0;34m\u001b[0m\u001b[0m\n\u001b[1;32m     31\u001b[0m     \u001b[0;31m# COMPUTE VALIDATION LOSSES AND ACCUARACIES\u001b[0m\u001b[0;34m\u001b[0m\u001b[0;34m\u001b[0m\u001b[0m\n\u001b[0;32m---> 32\u001b[0;31m     \u001b[0mb_val_loss\u001b[0m\u001b[0;34m,\u001b[0m \u001b[0mb_val_accr\u001b[0m \u001b[0;34m=\u001b[0m \u001b[0mbn_solver\u001b[0m\u001b[0;34m.\u001b[0m\u001b[0mevaluate\u001b[0m\u001b[0;34m(\u001b[0m\u001b[0mval_img\u001b[0m\u001b[0;34m,\u001b[0m \u001b[0mval_label\u001b[0m\u001b[0;34m)\u001b[0m\u001b[0;34m\u001b[0m\u001b[0m\n\u001b[0m\u001b[1;32m     33\u001b[0m     \u001b[0mn_val_loss\u001b[0m\u001b[0;34m,\u001b[0m \u001b[0mn_val_accr\u001b[0m \u001b[0;34m=\u001b[0m \u001b[0mnn_solver\u001b[0m\u001b[0;34m.\u001b[0m\u001b[0mevaluate\u001b[0m\u001b[0;34m(\u001b[0m\u001b[0mval_img\u001b[0m\u001b[0;34m,\u001b[0m \u001b[0mval_label\u001b[0m\u001b[0;34m)\u001b[0m\u001b[0;34m\u001b[0m\u001b[0m\n\u001b[1;32m     34\u001b[0m     \u001b[0;31m# SAVE THEM\u001b[0m\u001b[0;34m\u001b[0m\u001b[0;34m\u001b[0m\u001b[0m\n",
      "\u001b[0;32m<ipython-input-3-0072d7bf107e>\u001b[0m in \u001b[0;36mevaluate\u001b[0;34m(self, _x, _y, _batch_size)\u001b[0m\n\u001b[1;32m     58\u001b[0m             \u001b[0mconfig\u001b[0m\u001b[0;34m.\u001b[0m\u001b[0mgpu_options\u001b[0m\u001b[0;34m.\u001b[0m\u001b[0mallow_growth\u001b[0m\u001b[0;34m=\u001b[0m\u001b[0mTrue\u001b[0m\u001b[0;34m\u001b[0m\u001b[0m\n\u001b[1;32m     59\u001b[0m \u001b[0;34m\u001b[0m\u001b[0m\n\u001b[0;32m---> 60\u001b[0;31m             \u001b[0;32mreturn\u001b[0m \u001b[0mself\u001b[0m\u001b[0;34m.\u001b[0m\u001b[0msess\u001b[0m\u001b[0;34m.\u001b[0m\u001b[0mrun\u001b[0m\u001b[0;34m(\u001b[0m\u001b[0;34m[\u001b[0m\u001b[0mloss\u001b[0m\u001b[0;34m,\u001b[0m \u001b[0maccr\u001b[0m\u001b[0;34m]\u001b[0m\u001b[0;34m,\u001b[0m \u001b[0mfeed_dict\u001b[0m\u001b[0;34m=\u001b[0m\u001b[0mfeed\u001b[0m\u001b[0;34m)\u001b[0m\u001b[0;34m\u001b[0m\u001b[0m\n\u001b[0m",
      "\u001b[0;32m/home/nips/anaconda2/lib/python2.7/site-packages/tensorflow/python/client/session.pyc\u001b[0m in \u001b[0;36mrun\u001b[0;34m(self, fetches, feed_dict, options, run_metadata)\u001b[0m\n\u001b[1;32m    765\u001b[0m     \u001b[0;32mtry\u001b[0m\u001b[0;34m:\u001b[0m\u001b[0;34m\u001b[0m\u001b[0m\n\u001b[1;32m    766\u001b[0m       result = self._run(None, fetches, feed_dict, options_ptr,\n\u001b[0;32m--> 767\u001b[0;31m                          run_metadata_ptr)\n\u001b[0m\u001b[1;32m    768\u001b[0m       \u001b[0;32mif\u001b[0m \u001b[0mrun_metadata\u001b[0m\u001b[0;34m:\u001b[0m\u001b[0;34m\u001b[0m\u001b[0m\n\u001b[1;32m    769\u001b[0m         \u001b[0mproto_data\u001b[0m \u001b[0;34m=\u001b[0m \u001b[0mtf_session\u001b[0m\u001b[0;34m.\u001b[0m\u001b[0mTF_GetBuffer\u001b[0m\u001b[0;34m(\u001b[0m\u001b[0mrun_metadata_ptr\u001b[0m\u001b[0;34m)\u001b[0m\u001b[0;34m\u001b[0m\u001b[0m\n",
      "\u001b[0;32m/home/nips/anaconda2/lib/python2.7/site-packages/tensorflow/python/client/session.pyc\u001b[0m in \u001b[0;36m_run\u001b[0;34m(self, handle, fetches, feed_dict, options, run_metadata)\u001b[0m\n\u001b[1;32m    963\u001b[0m     \u001b[0;32mif\u001b[0m \u001b[0mfinal_fetches\u001b[0m \u001b[0;32mor\u001b[0m \u001b[0mfinal_targets\u001b[0m\u001b[0;34m:\u001b[0m\u001b[0;34m\u001b[0m\u001b[0m\n\u001b[1;32m    964\u001b[0m       results = self._do_run(handle, final_targets, final_fetches,\n\u001b[0;32m--> 965\u001b[0;31m                              feed_dict_string, options, run_metadata)\n\u001b[0m\u001b[1;32m    966\u001b[0m     \u001b[0;32melse\u001b[0m\u001b[0;34m:\u001b[0m\u001b[0;34m\u001b[0m\u001b[0m\n\u001b[1;32m    967\u001b[0m       \u001b[0mresults\u001b[0m \u001b[0;34m=\u001b[0m \u001b[0;34m[\u001b[0m\u001b[0;34m]\u001b[0m\u001b[0;34m\u001b[0m\u001b[0m\n",
      "\u001b[0;32m/home/nips/anaconda2/lib/python2.7/site-packages/tensorflow/python/client/session.pyc\u001b[0m in \u001b[0;36m_do_run\u001b[0;34m(self, handle, target_list, fetch_list, feed_dict, options, run_metadata)\u001b[0m\n\u001b[1;32m   1013\u001b[0m     \u001b[0;32mif\u001b[0m \u001b[0mhandle\u001b[0m \u001b[0;32mis\u001b[0m \u001b[0mNone\u001b[0m\u001b[0;34m:\u001b[0m\u001b[0;34m\u001b[0m\u001b[0m\n\u001b[1;32m   1014\u001b[0m       return self._do_call(_run_fn, self._session, feed_dict, fetch_list,\n\u001b[0;32m-> 1015\u001b[0;31m                            target_list, options, run_metadata)\n\u001b[0m\u001b[1;32m   1016\u001b[0m     \u001b[0;32melse\u001b[0m\u001b[0;34m:\u001b[0m\u001b[0;34m\u001b[0m\u001b[0m\n\u001b[1;32m   1017\u001b[0m       return self._do_call(_prun_fn, self._session, handle, feed_dict,\n",
      "\u001b[0;32m/home/nips/anaconda2/lib/python2.7/site-packages/tensorflow/python/client/session.pyc\u001b[0m in \u001b[0;36m_do_call\u001b[0;34m(self, fn, *args)\u001b[0m\n\u001b[1;32m   1033\u001b[0m         \u001b[0;32mexcept\u001b[0m \u001b[0mKeyError\u001b[0m\u001b[0;34m:\u001b[0m\u001b[0;34m\u001b[0m\u001b[0m\n\u001b[1;32m   1034\u001b[0m           \u001b[0;32mpass\u001b[0m\u001b[0;34m\u001b[0m\u001b[0m\n\u001b[0;32m-> 1035\u001b[0;31m       \u001b[0;32mraise\u001b[0m \u001b[0mtype\u001b[0m\u001b[0;34m(\u001b[0m\u001b[0me\u001b[0m\u001b[0;34m)\u001b[0m\u001b[0;34m(\u001b[0m\u001b[0mnode_def\u001b[0m\u001b[0;34m,\u001b[0m \u001b[0mop\u001b[0m\u001b[0;34m,\u001b[0m \u001b[0mmessage\u001b[0m\u001b[0;34m)\u001b[0m\u001b[0;34m\u001b[0m\u001b[0m\n\u001b[0m\u001b[1;32m   1036\u001b[0m \u001b[0;34m\u001b[0m\u001b[0m\n\u001b[1;32m   1037\u001b[0m   \u001b[0;32mdef\u001b[0m \u001b[0m_extend_graph\u001b[0m\u001b[0;34m(\u001b[0m\u001b[0mself\u001b[0m\u001b[0;34m)\u001b[0m\u001b[0;34m:\u001b[0m\u001b[0;34m\u001b[0m\u001b[0m\n",
      "\u001b[0;31mResourceExhaustedError\u001b[0m: OOM when allocating tensor with shape[5000,64,28,28]\n\t [[Node: BATCHNORM/LAYER_0/conv2d/convolution = Conv2D[T=DT_FLOAT, data_format=\"NHWC\", padding=\"SAME\", strides=[1, 1, 1, 1], use_cudnn_on_gpu=true, _device=\"/job:localhost/replica:0/task:0/gpu:0\"](BATCHNORM/Reshape, BATCHNORM/LAYER_0/conv2d/kernel/read)]]\n\t [[Node: BATCHNORM/LOSS/_79 = _Recv[client_terminated=false, recv_device=\"/job:localhost/replica:0/task:0/cpu:0\", send_device=\"/job:localhost/replica:0/task:0/gpu:0\", send_device_incarnation=1, tensor_name=\"edge_147_BATCHNORM/LOSS\", tensor_type=DT_FLOAT, _device=\"/job:localhost/replica:0/task:0/cpu:0\"]()]]\n\nCaused by op u'BATCHNORM/LAYER_0/conv2d/convolution', defined at:\n  File \"/home/nips/anaconda2/lib/python2.7/runpy.py\", line 174, in _run_module_as_main\n    \"__main__\", fname, loader, pkg_name)\n  File \"/home/nips/anaconda2/lib/python2.7/runpy.py\", line 72, in _run_code\n    exec code in run_globals\n  File \"/home/nips/.local/lib/python2.7/site-packages/ipykernel/__main__.py\", line 3, in <module>\n    app.launch_new_instance()\n  File \"/home/nips/.local/lib/python2.7/site-packages/traitlets/config/application.py\", line 658, in launch_instance\n    app.start()\n  File \"/home/nips/.local/lib/python2.7/site-packages/ipykernel/kernelapp.py\", line 474, in start\n    ioloop.IOLoop.instance().start()\n  File \"/home/nips/.local/lib/python2.7/site-packages/zmq/eventloop/ioloop.py\", line 177, in start\n    super(ZMQIOLoop, self).start()\n  File \"/home/nips/.local/lib/python2.7/site-packages/tornado/ioloop.py\", line 887, in start\n    handler_func(fd_obj, events)\n  File \"/home/nips/.local/lib/python2.7/site-packages/tornado/stack_context.py\", line 275, in null_wrapper\n    return fn(*args, **kwargs)\n  File \"/home/nips/.local/lib/python2.7/site-packages/zmq/eventloop/zmqstream.py\", line 440, in _handle_events\n    self._handle_recv()\n  File \"/home/nips/.local/lib/python2.7/site-packages/zmq/eventloop/zmqstream.py\", line 472, in _handle_recv\n    self._run_callback(callback, msg)\n  File \"/home/nips/.local/lib/python2.7/site-packages/zmq/eventloop/zmqstream.py\", line 414, in _run_callback\n    callback(*args, **kwargs)\n  File \"/home/nips/.local/lib/python2.7/site-packages/tornado/stack_context.py\", line 275, in null_wrapper\n    return fn(*args, **kwargs)\n  File \"/home/nips/.local/lib/python2.7/site-packages/ipykernel/kernelbase.py\", line 276, in dispatcher\n    return self.dispatch_shell(stream, msg)\n  File \"/home/nips/.local/lib/python2.7/site-packages/ipykernel/kernelbase.py\", line 228, in dispatch_shell\n    handler(stream, idents, msg)\n  File \"/home/nips/.local/lib/python2.7/site-packages/ipykernel/kernelbase.py\", line 390, in execute_request\n    user_expressions, allow_stdin)\n  File \"/home/nips/.local/lib/python2.7/site-packages/ipykernel/ipkernel.py\", line 196, in do_execute\n    res = shell.run_cell(code, store_history=store_history, silent=silent)\n  File \"/home/nips/.local/lib/python2.7/site-packages/ipykernel/zmqshell.py\", line 501, in run_cell\n    return super(ZMQInteractiveShell, self).run_cell(*args, **kwargs)\n  File \"/home/nips/.local/lib/python2.7/site-packages/IPython/core/interactiveshell.py\", line 2717, in run_cell\n    interactivity=interactivity, compiler=compiler, result=result)\n  File \"/home/nips/.local/lib/python2.7/site-packages/IPython/core/interactiveshell.py\", line 2821, in run_ast_nodes\n    if self.run_code(code, result):\n  File \"/home/nips/.local/lib/python2.7/site-packages/IPython/core/interactiveshell.py\", line 2881, in run_code\n    exec(code_obj, self.user_global_ns, self.user_ns)\n  File \"<ipython-input-4-93bb344213aa>\", line 7, in <module>\n    bn = Model('BATCHNORM', input_dim, output_dim, hidden_dims=nchannels, use_batchnorm=True)\n  File \"<ipython-input-2-dd69ed40e9c5>\", line 16, in __init__\n    net = tf.layers.conv2d(net, h_dim, (3, 3), padding='SAME')\n  File \"/home/nips/anaconda2/lib/python2.7/site-packages/tensorflow/python/layers/convolutional.py\", line 509, in conv2d\n    return layer.apply(inputs)\n  File \"/home/nips/anaconda2/lib/python2.7/site-packages/tensorflow/python/layers/base.py\", line 303, in apply\n    return self.__call__(inputs, **kwargs)\n  File \"/home/nips/anaconda2/lib/python2.7/site-packages/tensorflow/python/layers/base.py\", line 273, in __call__\n    outputs = self.call(inputs, **kwargs)\n  File \"/home/nips/anaconda2/lib/python2.7/site-packages/tensorflow/python/layers/convolutional.py\", line 156, in call\n    data_format=utils.convert_data_format(self.data_format, self.rank + 2))\n  File \"/home/nips/anaconda2/lib/python2.7/site-packages/tensorflow/python/ops/nn_ops.py\", line 639, in convolution\n    op=op)\n  File \"/home/nips/anaconda2/lib/python2.7/site-packages/tensorflow/python/ops/nn_ops.py\", line 308, in with_space_to_batch\n    return op(input, num_spatial_dims, padding)\n  File \"/home/nips/anaconda2/lib/python2.7/site-packages/tensorflow/python/ops/nn_ops.py\", line 631, in op\n    name=name)\n  File \"/home/nips/anaconda2/lib/python2.7/site-packages/tensorflow/python/ops/nn_ops.py\", line 129, in _non_atrous_convolution\n    name=name)\n  File \"/home/nips/anaconda2/lib/python2.7/site-packages/tensorflow/python/ops/gen_nn_ops.py\", line 396, in conv2d\n    data_format=data_format, name=name)\n  File \"/home/nips/anaconda2/lib/python2.7/site-packages/tensorflow/python/framework/op_def_library.py\", line 763, in apply_op\n    op_def=op_def)\n  File \"/home/nips/anaconda2/lib/python2.7/site-packages/tensorflow/python/framework/ops.py\", line 2327, in create_op\n    original_op=self._default_original_op, op_def=op_def)\n  File \"/home/nips/anaconda2/lib/python2.7/site-packages/tensorflow/python/framework/ops.py\", line 1226, in __init__\n    self._traceback = _extract_stack()\n\nResourceExhaustedError (see above for traceback): OOM when allocating tensor with shape[5000,64,28,28]\n\t [[Node: BATCHNORM/LAYER_0/conv2d/convolution = Conv2D[T=DT_FLOAT, data_format=\"NHWC\", padding=\"SAME\", strides=[1, 1, 1, 1], use_cudnn_on_gpu=true, _device=\"/job:localhost/replica:0/task:0/gpu:0\"](BATCHNORM/Reshape, BATCHNORM/LAYER_0/conv2d/kernel/read)]]\n\t [[Node: BATCHNORM/LOSS/_79 = _Recv[client_terminated=false, recv_device=\"/job:localhost/replica:0/task:0/cpu:0\", send_device=\"/job:localhost/replica:0/task:0/gpu:0\", send_device_incarnation=1, tensor_name=\"edge_147_BATCHNORM/LOSS\", tensor_type=DT_FLOAT, _device=\"/job:localhost/replica:0/task:0/cpu:0\"]()]]\n"
     ]
    }
   ],
   "source": [
    "epoch_n    = 20\n",
    "batch_size = 16\n",
    "mnist      = input_data.read_data_sets(\"data/\", one_hot=True)\n",
    "tr_img     = mnist.train.images\n",
    "tr_label   = mnist.train.labels\n",
    "val_img    = mnist.validation.images\n",
    "val_label  = mnist.validation.labels\n",
    "\n",
    "# SAVE LOSSES AND ACCURACIES\n",
    "tr_losses  = []\n",
    "tr_accrs   = []\n",
    "val_losses = []\n",
    "val_accrs  = []\n",
    "# INITALIZE\n",
    "\n",
    "display_step    = 1\n",
    "config = tf.ConfigProto()\n",
    "config.gpu_options.allow_growth=True\n",
    "\n",
    "sess.run(tf.global_variables_initializer())\n",
    "# OPTIMIZE\n",
    "for epoch in range(epoch_n):\n",
    "    # OPTIMIZE\n",
    "    for _ in range(mnist.train.num_examples//batch_size):\n",
    "        X_batch, y_batch = mnist.train.next_batch(batch_size)\n",
    "        _, bn_loss = bn_solver.train(X_batch, y_batch)\n",
    "        _, nn_loss = nn_solver.train(X_batch, y_batch)       \n",
    "    # COMPUTE TRAIN LOSSES AND ACCUARACIES\n",
    "    b_train_loss, b_train_accr = bn_solver.evaluate(tr_img, tr_label, batch_size)\n",
    "    n_train_loss, n_train_accr = nn_solver.evaluate(tr_img, tr_label, batch_size)\n",
    "    # COMPUTE VALIDATION LOSSES AND ACCUARACIES\n",
    "    b_val_loss, b_val_accr = bn_solver.evaluate(val_img, val_label)\n",
    "    n_val_loss, n_val_accr = nn_solver.evaluate(val_img, val_label)\n",
    "    # SAVE THEM\n",
    "    tr_losses.append([b_train_loss, n_train_loss])\n",
    "    tr_accrs.append([b_train_accr, n_train_accr])\n",
    "    val_losses.append([b_val_loss, n_val_loss])\n",
    "    val_accrs.append([b_val_accr, n_val_accr])\n",
    "    # PRINT\n",
    "    print (\"[%d/%d] [TRAIN] BATCHNORM: %.4f (%.4f) vs. NO-NORM: %.4f (%.4f)\" \n",
    "           % (epoch, epoch_n, b_train_loss, b_train_accr, n_train_loss, n_train_accr))\n",
    "    print (\"  [VALIDATION] BATCHNORM: %.4f (%.4f) vs. NO-NORM: %.4f (%.4f)\" \n",
    "           % (b_val_loss, b_val_accr, n_val_loss, n_val_accr))\n",
    "print (\"OPTIMIZATION FINISHED\")"
   ]
  },
  {
   "cell_type": "code",
   "execution_count": null,
   "metadata": {
    "collapsed": true,
    "deletable": true,
    "editable": true
   },
   "outputs": [],
   "source": [
    "b_test_loss, b_test_accr = bn_solver.evaluate(mnist.test.images, mnist.test.labels)\n",
    "n_test_loss, n_test_accr = nn_solver.evaluate(mnist.test.images, mnist.test.labels)\n",
    "print (\"[TEST] BATCHNORM: %.4f (%.4f) vs. NO-NORM: %.4f (%.4f)\"\n",
    "      % (b_test_loss, b_test_accr, n_test_loss, n_test_accr))"
   ]
  },
  {
   "cell_type": "code",
   "execution_count": null,
   "metadata": {
    "collapsed": true,
    "deletable": true,
    "editable": true
   },
   "outputs": [],
   "source": [
    "def plot_comp(val_list, ylim=None, title=None, loc=None):\n",
    "    bn = [i[0] for i in val_list]\n",
    "    nn = [i[1] for i in val_list]\n",
    "    plt.figure(figsize=(8, 5))\n",
    "    plt.plot(bn, label='With BN')\n",
    "    plt.plot(nn, label='Without BN')\n",
    "    if ylim:\n",
    "        plt.ylim(ylim)\n",
    "    if title:\n",
    "        plt.title(title)\n",
    "    plt.legend(loc=loc)\n",
    "    plt.grid('on')\n",
    "    plt.show()\n"
   ]
  },
  {
   "cell_type": "code",
   "execution_count": null,
   "metadata": {
    "collapsed": true,
    "deletable": true,
    "editable": true
   },
   "outputs": [],
   "source": [
    "plot_comp(tr_losses, title=\"TRAINING LOSS\")\n",
    "plot_comp(val_losses, title=\"VALIDATION LOSS\")"
   ]
  }
 ],
 "metadata": {
  "kernelspec": {
   "display_name": "Python 2",
   "language": "python",
   "name": "python2"
  },
  "language_info": {
   "codemirror_mode": {
    "name": "ipython",
    "version": 2
   },
   "file_extension": ".py",
   "mimetype": "text/x-python",
   "name": "python",
   "nbconvert_exporter": "python",
   "pygments_lexer": "ipython2",
   "version": "2.7.13"
  }
 },
 "nbformat": 4,
 "nbformat_minor": 2
}
