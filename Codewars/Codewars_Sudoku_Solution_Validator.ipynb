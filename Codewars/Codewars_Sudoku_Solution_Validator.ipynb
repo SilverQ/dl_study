{
  "nbformat": 4,
  "nbformat_minor": 0,
  "metadata": {
    "colab": {
      "name": "Codewars/Sudoku Solution Validator.ipynb",
      "provenance": [],
      "toc_visible": true,
      "authorship_tag": "ABX9TyOsBDJ37yga7E6tw9EEv0xC",
      "include_colab_link": true
    },
    "kernelspec": {
      "name": "python3",
      "display_name": "Python 3"
    }
  },
  "cells": [
    {
      "cell_type": "markdown",
      "metadata": {
        "id": "view-in-github",
        "colab_type": "text"
      },
      "source": [
        "<a href=\"https://colab.research.google.com/github/SilverQ/dl_study/blob/master/Codewars/Codewars_Sudoku_Solution_Validator.ipynb\" target=\"_parent\"><img src=\"https://colab.research.google.com/assets/colab-badge.svg\" alt=\"Open In Colab\"/></a>"
      ]
    },
    {
      "cell_type": "code",
      "metadata": {
        "id": "ErSJZiQR9xjR",
        "colab_type": "code",
        "colab": {}
      },
      "source": [
        "def valid_solution(board):\n",
        "    import numpy as np\n",
        "    \n",
        "    def decision(arr):\n",
        "        if np.sum(np.unique(arr)) == 45 and np.sum(arr)-np.sum(np.unique(arr)) == 0:\n",
        "            return 0\n",
        "        else:\n",
        "            return 1\n",
        "\n",
        "    board = np.array(board)\n",
        "#     print(board)\n",
        "    result = True\n",
        "    for i in range(9):\n",
        "#         print(board[i,:])\n",
        "#         print(board[:,i])\n",
        "#         print(board[(i//3)*3:(i//3)*3+3, (i%3)*3:(i%3)*3+3])\n",
        "#         arr = board[(i//3)*3:(i//3)*3+3, (i%3)*3:(i%3)*3+3]\n",
        "#         print(np.sum(np.unique(arr)))\n",
        "#         if np.sum(arr) == 45 and np.sum(arr)-np.sum(np.unique(arr)) == 0:\n",
        "#             print(\"Wrong\")\n",
        "#         else:\n",
        "#             print(\"Right\")\n",
        "        if decision(board[i,:]) + decision(board[:,i]) + decision(board[(i//3)*3:(i//3)*3+3, (i%3)*3:(i%3)*3+3]) != 0:\n",
        "            result = False\n",
        "    return result\n",
        "#         print(i//3, i%3)\n",
        "#         0 - 0:3, 0:3\n",
        "#         1 - 0:3, 3:6\n",
        "#         2 - 0:3, 6:8\n",
        "#         3 - 3:6, 0:3\n",
        "#         4 - 3:6, 3:6\n",
        "#         5 - 3:6, 6:8\n",
        "#         6 - 6:8, 0:3\n",
        "#         7 - 6:8, 3:6\n",
        "#         8 - 6:8, 6:8\n",
        "        \n",
        "#     for lines in board:\n",
        "# #         print(lines)\n",
        "# #         print(set(lines))\n",
        "#         print(sum(lines), sum(set(lines)), sum(lines)-sum(set(lines)))\n",
        "        \n",
        "#     #\n",
        "\n"
      ],
      "execution_count": null,
      "outputs": []
    }
  ]
}