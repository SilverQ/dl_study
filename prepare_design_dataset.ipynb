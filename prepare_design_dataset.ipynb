{
 "cells": [
  {
   "cell_type": "code",
   "execution_count": 36,
   "metadata": {
    "collapsed": false,
    "deletable": true,
    "editable": true
   },
   "outputs": [
    {
     "name": "stdout",
     "output_type": "stream",
     "text": [
      "PACKAGES LOADED\n",
      "CURRENT FOLDER IS [/home/nips/data/design/]\n"
     ]
    }
   ],
   "source": [
    "import numpy as np\n",
    "import os\n",
    "from scipy.misc import imread, imresize\n",
    "import matplotlib.pyplot as plt\n",
    "%matplotlib inline\n",
    "cwd = '/home/nips/data/design/'\n",
    "print (\"PACKAGES LOADED\") \n",
    "print (\"CURRENT FOLDER IS [%s]\" % (cwd) )"
   ]
  },
  {
   "cell_type": "code",
   "execution_count": 39,
   "metadata": {
    "collapsed": false
   },
   "outputs": [
    {
     "data": {
      "text/plain": [
       "'02-03 , B410'"
      ]
     },
     "execution_count": 39,
     "metadata": {},
     "output_type": "execute_result"
    }
   ],
   "source": [
    "paths = os.listdir(cwd)\n",
    "#len(paths)\n",
    "#paths[1]"
   ]
  },
  {
   "cell_type": "code",
   "execution_count": 50,
   "metadata": {
    "collapsed": false
   },
   "outputs": [
    {
     "name": "stdout",
     "output_type": "stream",
     "text": [
      "20\n"
     ]
    }
   ],
   "source": [
    "type(paths)\n",
    "print len(paths)"
   ]
  },
  {
   "cell_type": "code",
   "execution_count": 41,
   "metadata": {
    "collapsed": false,
    "deletable": true,
    "editable": true
   },
   "outputs": [
    {
     "name": "stdout",
     "output_type": "stream",
     "text": [
      "YOUR IMAGES SHOULD BE AT\n",
      " [0/20] 02-04 , B210\n",
      " [1/20] 02-03 , B410\n",
      " [2/20] 02-04 , B420\n",
      " [3/20] 02-01 , B310\n",
      " [4/20] 02-04 , C300\n",
      " [5/20] 02-04 , B430\n",
      " [6/20] 02-04 , B620\n",
      " [7/20] 02-04 , B111\n",
      " [8/20] 02-04 , B113\n",
      " [9/20] 02-04 , B114\n",
      " [10/20] 02-04 , B110\n",
      " [11/20] 02-04 , B630\n",
      " [12/20] 02-04 , B410\n",
      " [13/20] 02-04 , B640\n",
      " [14/20] 02-04 , C211\n",
      " [15/20] 02-04 , B440\n",
      " [16/20] 02-04 , B400\n",
      " [17/20] 02-04 , B112\n",
      " [18/20] 02-03 , B120\n",
      " [19/20] 02-04 , C210\n",
      "DATA WILL BE SAVED TO \n",
      " [/home/nips/data/design//npz_data/design_data.npz]\n"
     ]
    }
   ],
   "source": [
    "# FOLDER LOCATIONS\n",
    "categories = paths\n",
    "# CONFIGURATIONS\n",
    "imgsize   = [64, 64]\n",
    "use_gray  = 1\n",
    "data_name = \"design_data\"\n",
    "\n",
    "print (\"YOUR IMAGES SHOULD BE AT\")\n",
    "for i, path in enumerate(paths):\n",
    "    print (\" [%d/%d] %s\" % (i, len(paths), path))\n",
    "print (\"DATA WILL BE SAVED TO \\n [%s]\"\n",
    "       % (cwd + '/npz_data/' + data_name + '.npz'))"
   ]
  },
  {
   "cell_type": "code",
   "execution_count": 42,
   "metadata": {
    "collapsed": true,
    "deletable": true,
    "editable": true
   },
   "outputs": [],
   "source": [
    "def rgb2gray(rgb):\n",
    "    if len(rgb.shape) is 3:\n",
    "        return np.dot(rgb[...,:3], [0.299, 0.587, 0.114])\n",
    "    else:\n",
    "        return rgb"
   ]
  },
  {
   "cell_type": "code",
   "execution_count": 43,
   "metadata": {
    "collapsed": false,
    "deletable": true,
    "editable": true
   },
   "outputs": [
    {
     "name": "stdout",
     "output_type": "stream",
     "text": [
      "TOTAL 20000 IMAGES\n"
     ]
    }
   ],
   "source": [
    "nclass     = len(paths)\n",
    "valid_exts = [\".jpg\",\".gif\",\".tif\"]\n",
    "imgcnt     = 0\n",
    "for i, relpath in zip(range(nclass), paths):\n",
    "    path = cwd + \"/\" + relpath\n",
    "    flist = os.listdir(path)\n",
    "    for f in flist:\n",
    "        if os.path.splitext(f)[1].lower() not in valid_exts:\n",
    "            continue\n",
    "        fullpath = os.path.join(path, f)\n",
    "        currimg  = imread(fullpath)\n",
    "        # CONVERT TO GRAY (IF REQUIRED)\n",
    "        if use_gray:\n",
    "            grayimg  = rgb2gray(currimg)\n",
    "        else:\n",
    "            grayimg  = currimg\n",
    "        # RESIZE\n",
    "        graysmall = imresize(grayimg, [imgsize[0], imgsize[1]])/255.\n",
    "        grayvec   = np.reshape(graysmall, (1, -1))\n",
    "        # SAVE \n",
    "        curr_label = np.eye(nclass, nclass)[i:i+1, :]\n",
    "        if imgcnt is 0:\n",
    "            totalimg   = grayvec\n",
    "            totallabel = curr_label\n",
    "        else:\n",
    "            totalimg   = np.concatenate((totalimg, grayvec), axis=0)\n",
    "            totallabel = np.concatenate((totallabel, curr_label), axis=0)\n",
    "        imgcnt    = imgcnt + 1\n",
    "print (\"TOTAL %d IMAGES\" % (imgcnt))"
   ]
  },
  {
   "cell_type": "code",
   "execution_count": 44,
   "metadata": {
    "collapsed": false,
    "deletable": true,
    "editable": true
   },
   "outputs": [
    {
     "name": "stdout",
     "output_type": "stream",
     "text": [
      "SHAPE OF [totalimg] IS [(20000, 4096)]\n",
      "SHAPE OF [totallabel] IS [(20000, 20)]\n",
      "SHAPE OF [trainimg] IS [(16000, 4096)]\n",
      "SHAPE OF [trainlabel] IS [(16000, 20)]\n",
      "SHAPE OF [testimg] IS [(4000, 4096)]\n",
      "SHAPE OF [testlabel] IS [(4000, 20)]\n"
     ]
    }
   ],
   "source": [
    "def print_shape(string, x):\n",
    "    print (\"SHAPE OF [%s] IS [%s]\" % (string, x.shape,))\n",
    "    \n",
    "randidx    = np.random.randint(imgcnt, size=imgcnt)\n",
    "trainidx   = randidx[0:int(4*imgcnt/5)]\n",
    "testidx    = randidx[int(4*imgcnt/5):imgcnt]\n",
    "trainimg   = totalimg[trainidx, :]\n",
    "trainlabel = totallabel[trainidx, :]\n",
    "testimg    = totalimg[testidx, :]\n",
    "testlabel  = totallabel[testidx, :]\n",
    "print_shape(\"totalimg\", totalimg)\n",
    "print_shape(\"totallabel\", totallabel)\n",
    "print_shape(\"trainimg\", trainimg)\n",
    "print_shape(\"trainlabel\", trainlabel)\n",
    "print_shape(\"testimg\", testimg)\n",
    "print_shape(\"testlabel\", testlabel)"
   ]
  },
  {
   "cell_type": "code",
   "execution_count": 48,
   "metadata": {
    "collapsed": false
   },
   "outputs": [
    {
     "data": {
      "text/plain": [
       "'02-03 , B410'"
      ]
     },
     "execution_count": 48,
     "metadata": {},
     "output_type": "execute_result"
    }
   ],
   "source": [
    "categories[1]"
   ]
  },
  {
   "cell_type": "code",
   "execution_count": 51,
   "metadata": {
    "collapsed": false,
    "deletable": true,
    "editable": true
   },
   "outputs": [
    {
     "name": "stdout",
     "output_type": "stream",
     "text": [
      "SAVED TO [/home/nips/data/design//npz_data/design_data.npz]\n"
     ]
    }
   ],
   "source": [
    "savepath = cwd + \"/npz_data/\" + data_name + \".npz\"\n",
    "np.savez(savepath, trainimg=trainimg, trainlabel=trainlabel\n",
    "         , testimg=testimg, testlabel=testlabel\n",
    "         , imgsize=imgsize, use_gray=use_gray, categories=categories)\n",
    "print (\"SAVED TO [%s]\" % (savepath))"
   ]
  },
  {
   "cell_type": "code",
   "execution_count": 52,
   "metadata": {
    "collapsed": false,
    "deletable": true,
    "editable": true
   },
   "outputs": [
    {
     "name": "stdout",
     "output_type": "stream",
     "text": [
      "['trainlabel', 'imgsize', 'trainimg', 'testimg', 'testlabel', 'use_gray', 'categories']\n",
      "[16000] TRAINING IMAGES\n",
      "[4000] TEST IMAGES\n",
      "LOADED FROM [/home/nips/data/design//npz_data/design_data.npz]\n"
     ]
    }
   ],
   "source": [
    "# LOAD\n",
    "# cwd = os.getcwd()\n",
    "loadpath = cwd + \"/npz_data/\" + data_name + \".npz\"\n",
    "l = np.load(loadpath)\n",
    "print (l.files)\n",
    "\n",
    "# Parse data\n",
    "trainimg_loaded   = l['trainimg']\n",
    "trainlabel_loaded = l['trainlabel']\n",
    "testimg_loaded    = l['testimg']\n",
    "testlabel_loaded  = l['testlabel']\n",
    "categories_loaded = l['categories']\n",
    "\n",
    "print (\"[%d] TRAINING IMAGES\" % (trainimg_loaded.shape[0]))\n",
    "print (\"[%d] TEST IMAGES\" % (testimg_loaded.shape[0]))\n",
    "print (\"LOADED FROM [%s]\" % (savepath))"
   ]
  },
  {
   "cell_type": "code",
   "execution_count": 53,
   "metadata": {
    "collapsed": false,
    "deletable": true,
    "editable": true
   },
   "outputs": [
    {
     "data": {
      "image/png": "[encoded data removed]",
      "text/plain": [
       "<matplotlib.figure.Figure at 0x7f2d80efe7d0>"
      ]
     },
     "metadata": {},
     "output_type": "display_data"
    },
    {
     "data": {
      "image/png": "[encoded data removed]",
      "text/plain": [
       "<matplotlib.figure.Figure at 0x7f2d80f71c10>"
      ]
     },
     "metadata": {},
     "output_type": "display_data"
    },
    {
     "data": {
      "image/png": "[encoded data removed]",
      "text/plain": [
       "<matplotlib.figure.Figure at 0x7f2d8098d490>"
      ]
     },
     "metadata": {},
     "output_type": "display_data"
    },
    {
     "data": {
      "image/png": "[encoded data removed]",
      "text/plain": [
       "<matplotlib.figure.Figure at 0x7f2d80856f90>"
      ]
     },
     "metadata": {},
     "output_type": "display_data"
    },
    {
     "data": {
      "image/png": "[encoded data removed]",
      "text/plain": [
       "<matplotlib.figure.Figure at 0x7f2d806ce710>"
      ]
     },
     "metadata": {},
     "output_type": "display_data"
    }
   ],
   "source": [
    "ntrain_loaded = trainimg_loaded.shape[0]\n",
    "batch_size = 5;\n",
    "randidx = np.random.randint(ntrain_loaded, size=batch_size)\n",
    "for i in randidx: \n",
    "    currimg = np.reshape(trainimg_loaded[i, :], (imgsize[0], -1))\n",
    "    currlabel_onehot = trainlabel_loaded[i, :]\n",
    "    currlabel = np.argmax(currlabel_onehot) \n",
    "    if use_gray:\n",
    "        currimg = np.reshape(trainimg[i, :], (imgsize[0], -1))\n",
    "        plt.matshow(currimg, cmap=plt.get_cmap('gray'))\n",
    "        plt.colorbar()\n",
    "    else:\n",
    "        currimg = np.reshape(trainimg[i, :], (imgsize[0], imgsize[1], 3))\n",
    "        plt.imshow(currimg)\n",
    "    title_string = (\"[%d] CLASS-%d (%s)\" \n",
    "                    % (i, currlabel, categories_loaded[currlabel]))\n",
    "    plt.title(title_string) \n",
    "    plt.show()"
   ]
  },
  {
   "cell_type": "code",
   "execution_count": null,
   "metadata": {
    "collapsed": true,
    "deletable": true,
    "editable": true
   },
   "outputs": [],
   "source": []
  }
 ],
 "metadata": {
  "kernelspec": {
   "display_name": "Python 2",
   "language": "python",
   "name": "python2"
  },
  "language_info": {
   "codemirror_mode": {
    "name": "ipython",
    "version": 2
   },
   "file_extension": ".py",
   "mimetype": "text/x-python",
   "name": "python",
   "nbconvert_exporter": "python",
   "pygments_lexer": "ipython2",
   "version": "2.7.13"
  }
 },
 "nbformat": 4,
 "nbformat_minor": 2
}
